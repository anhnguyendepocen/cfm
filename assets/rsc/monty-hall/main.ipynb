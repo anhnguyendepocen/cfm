{
 "cells": [
  {
   "cell_type": "code",
   "execution_count": 1,
   "metadata": {},
   "outputs": [],
   "source": [
    "%matplotlib inline  \n",
    "import random\n",
    "\n",
    "def stick(number_goats=2):\n",
    "    \"\"\"A function to simulate a play of the game when we stick\"\"\"\n",
    "    doors = ['Car'] + number_goats * ['Goat']\n",
    "        \n",
    "    initial_choice = random.choice(doors)  # make a choice\n",
    "    return initial_choice == 'Car'\n",
    "\n",
    "def switch(number_goats=2):\n",
    "    \"\"\"A function to simulate a play of the game when we swap\"\"\"\n",
    "    doors = ['Car'] + number_goats * ['Goat']  \n",
    "    \n",
    "    initial_choice = random.choice(doors)  # make a choice\n",
    "    \n",
    "    doors.remove(initial_choice)  # Switching: remove initial choice\n",
    "    doors.remove('Goat')  # The game show host shows us a goat\n",
    "    \n",
    "    new_choice = random.choice(doors)   # We choose our one remaining option\n",
    "            \n",
    "    return new_choice == 'Car'"
   ]
  },
  {
   "cell_type": "markdown",
   "metadata": {},
   "source": [
    "Checking the initial probabilities:"
   ]
  },
  {
   "cell_type": "code",
   "execution_count": 45,
   "metadata": {},
   "outputs": [
    {
     "data": {
      "text/plain": [
       "(0.3346, 0.6636)"
      ]
     },
     "execution_count": 45,
     "metadata": {},
     "output_type": "execute_result"
    }
   ],
   "source": [
    "repetitions = 10000\n",
    "random.seed(0)\n",
    "prob_win_stick = sum([stick() for rep in range(repetitions)]) / repetitions\n",
    "prob_win_switch = sum([switch() for rep in range(repetitions)]) / repetitions\n",
    "prob_win_stick, prob_win_switch"
   ]
  },
  {
   "cell_type": "markdown",
   "metadata": {},
   "source": [
    "Verifying the mathematical formula:"
   ]
  },
  {
   "cell_type": "code",
   "execution_count": 2,
   "metadata": {},
   "outputs": [
    {
     "data": {
      "text/plain": [
       "n/(n**2 - 1)"
      ]
     },
     "execution_count": 2,
     "metadata": {},
     "output_type": "execute_result"
    }
   ],
   "source": [
    "import sympy as sym\n",
    "n = sym.symbols('n')\n",
    "p_n = (1 - 1 / (n + 1)) * (1 / (n - 1))\n",
    "p_n.simplify()"
   ]
  },
  {
   "cell_type": "code",
   "execution_count": 3,
   "metadata": {},
   "outputs": [
    {
     "data": {
      "text/plain": [
       "n/(n - 1)"
      ]
     },
     "execution_count": 3,
     "metadata": {},
     "output_type": "execute_result"
    }
   ],
   "source": [
    "(p_n / (1 / (n + 1))).simplify() "
   ]
  },
  {
   "cell_type": "markdown",
   "metadata": {},
   "source": [
    "A function for the ratio:"
   ]
  },
  {
   "cell_type": "code",
   "execution_count": 5,
   "metadata": {
    "collapsed": true
   },
   "outputs": [],
   "source": [
    "def ratio(repetitions=50000, number_goats=2):\n",
    "    \"\"\"Obtain the ratio of win probabilities\"\"\"\n",
    "    prob_win_stick = sum([stick(number_goats=number_goats) \n",
    "                          for rep in range(repetitions)]) / repetitions\n",
    "    prob_win_switch = sum([switch(number_goats=number_goats) \n",
    "                           for rep in range(repetitions)]) / repetitions\n",
    "    return prob_win_switch / prob_win_stick "
   ]
  },
  {
   "cell_type": "markdown",
   "metadata": {},
   "source": [
    "Draw the plot:"
   ]
  },
  {
   "cell_type": "code",
   "execution_count": 9,
   "metadata": {},
   "outputs": [
    {
     "data": {
      "image/png": "[encoded data removed]",
      "text/plain": [
       "<matplotlib.figure.Figure at 0x7f395fd0a048>"
      ]
     },
     "metadata": {},
     "output_type": "display_data"
    }
   ],
   "source": [
    "import matplotlib.pyplot as plt\n",
    "random.seed(0)\n",
    "goats = range(2, 25 + 1)\n",
    "ratios = [ratio(number_goats=n) for n in goats]\n",
    "theoretic_ratio = [(n / (n - 1)) for n in goats]\n",
    "plt.figure()\n",
    "plt.scatter(goats, ratios, label=\"simulated\")\n",
    "plt.plot(goats, theoretic_ratio, color=\"C1\", label=\"theoretic\")\n",
    "plt.xlabel(\"Number of goats\")\n",
    "plt.ylabel(\"Ratio\")\n",
    "plt.legend()\n",
    "plt.savefig(\"/home/vince/Desktop/simulated_v_expected_ratio_of_win_probability.svg\", try);"
   ]
  },
  {
   "cell_type": "code",
   "execution_count": 4,
   "metadata": {},
   "outputs": [
    {
     "data": {
      "text/plain": [
       "1"
      ]
     },
     "execution_count": 4,
     "metadata": {},
     "output_type": "execute_result"
    }
   ],
   "source": [
    "sym.limit((p_n / (1 / (n + 1))), n, sym.oo)"
   ]
  }
 ],
 "metadata": {
  "anaconda-cloud": {},
  "kernelspec": {
   "display_name": "Python [conda root]",
   "language": "python",
   "name": "conda-root-py"
  },
  "language_info": {
   "codemirror_mode": {
    "name": "ipython",
    "version": 3
   },
   "file_extension": ".py",
   "mimetype": "text/x-python",
   "name": "python",
   "nbconvert_exporter": "python",
   "pygments_lexer": "ipython3",
   "version": "3.5.2"
  }
 },
 "nbformat": 4,
 "nbformat_minor": 2
}
